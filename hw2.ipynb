{
 "cells": [
  {
   "cell_type": "markdown",
   "metadata": {},
   "source": [
    "# Задача 2.1: тихий огонек моей души"
   ]
  },
  {
   "cell_type": "markdown",
   "metadata": {},
   "source": [
    "Написать функцию, которая принимает на вход целое положительное число (год) и возвращает **True**, если год -- високосный, и **False**, если год не високосный. Правило високосности года можно найти в Википедии. Если число не целое или не положительное, не возвращать ничего и вывести предупреждающее сообщение."
   ]
  },
  {
   "cell_type": "code",
   "execution_count": null,
   "metadata": {},
   "outputs": [],
   "source": [
    "def leap_year(year):\n",
    "    is_leap = None\n",
    "    ## YOUR CODE HERE\n",
    "\n",
    "    ## END OF YOUR CODe\n",
    "    return is_leap"
   ]
  },
  {
   "cell_type": "markdown",
   "metadata": {},
   "source": [
    "Если при выполнении следующего блока вы видите сообщение об успехе, то, вероятно, вы делаете все правильно."
   ]
  },
  {
   "cell_type": "code",
   "execution_count": null,
   "metadata": {},
   "outputs": [],
   "source": [
    "assert leap_year(-10) is None\n",
    "assert leap_year(0) is None\n",
    "assert leap_year(4.1) is None\n",
    "assert leap_year(2000)\n",
    "assert not leap_year(1000)\n",
    "assert leap_year(1004)\n",
    "assert leap_year(1000000000)\n",
    "assert not leap_year(103)\n",
    "assert leap_year(32)\n",
    "print('Success!')"
   ]
  },
  {
   "cell_type": "markdown",
   "metadata": {},
   "source": [
    "# Задача 2.2: two number 8"
   ]
  },
  {
   "cell_type": "markdown",
   "metadata": {},
   "source": [
    "Биг Мак стоит 150 рублей.\n",
    "- Дополнительная котлета стоит 80 рублей.\n",
    "- Дополнительный сыр стоит 20 рублей за ломтик.\n",
    "- Из бургера можно убрать лук и майонез, но на цену это не влияет\n",
    "\n",
    "Написать функцию, которая вычисляет цену бургерочка."
   ]
  },
  {
   "cell_type": "code",
   "execution_count": null,
   "metadata": {},
   "outputs": [],
   "source": [
    "def burger_price(extra_cutlet = False,\n",
    "                 extra_cheese_num = 0,\n",
    "                 onion = False,\n",
    "                 mayo = False\n",
    "                ):\n",
    "    price = None\n",
    "    ## YOUR CODE HERE\n",
    "    \n",
    "    ## END OF YOUR CODE\n",
    "    return price"
   ]
  },
  {
   "cell_type": "code",
   "execution_count": null,
   "metadata": {},
   "outputs": [],
   "source": [
    "assert burger_price() == 150\n",
    "assert burger_price(onion = True) == 150\n",
    "assert burger_price(mayo = True) == 150\n",
    "assert burger_price(mayo = True, onion = True) == 150\n",
    "assert burger_price(extra_cutlet = True) == 230\n",
    "assert burger_price(extra_cutlet = True, extra_cheese_num = 10) == 430\n",
    "assert burger_price(onion = True, extra_cheese_num = 1) == 170\n",
    "print('Success!')"
   ]
  },
  {
   "cell_type": "markdown",
   "metadata": {},
   "source": [
    "# Задача 2.3: дед Макар"
   ]
  },
  {
   "cell_type": "markdown",
   "metadata": {},
   "source": [
    "Написать функцию, которая проверяет, является ли введенная строка палиндромом."
   ]
  },
  {
   "cell_type": "code",
   "execution_count": null,
   "metadata": {},
   "outputs": [],
   "source": [
    "def is_palindrome(s):\n",
    "    result = None\n",
    "    ## YOUR CODE HERE\n",
    "    \n",
    "    ## END OF YOUR CODE\n",
    "    return result"
   ]
  },
  {
   "cell_type": "code",
   "execution_count": null,
   "metadata": {},
   "outputs": [],
   "source": [
    "assert is_palindrome('')\n",
    "assert is_palindrome('a')\n",
    "assert not is_palindrome('babak')\n",
    "assert is_palindrome('101')\n",
    "print('Success!')"
   ]
  },
  {
   "cell_type": "markdown",
   "metadata": {},
   "source": [
    "# Задача 2.4: скажи вслух"
   ]
  },
  {
   "cell_type": "markdown",
   "metadata": {},
   "source": [
    "Дано целое число от 20 до 100 включительно. Вернуть строку, в которой число написано по-русски. Например:\n",
    "- say(40) == 'сорок'\n",
    "- say(91) == 'девяносто один'\n",
    "Если число не входит в интервал [20, 100] или имеет не тип **int**, ничего не возвращать"
   ]
  },
  {
   "cell_type": "code",
   "execution_count": null,
   "metadata": {},
   "outputs": [],
   "source": [
    "def say(x):\n",
    "    result = None\n",
    "    ## YOUR CODE HERE\n",
    "\n",
    "    ## END OF YOUR CODE\n",
    "    return result"
   ]
  },
  {
   "cell_type": "code",
   "execution_count": null,
   "metadata": {},
   "outputs": [],
   "source": [
    "assert say(0) is None\n",
    "assert say(111) is None\n",
    "assert say('42') is None\n",
    "assert say(242.43) is None\n",
    "assert say(27) == \"двадцать семь\"\n",
    "assert say(28) == \"двадцать восемь\"\n",
    "assert say(39) == \"тридцать девять\"\n",
    "assert say(44) == \"сорок четыре\"\n",
    "assert say(55) == \"пятьдесят пять\"\n",
    "assert say(63) == \"шестьдесят три\"\n",
    "assert say(65) == \"шестьдесят пять\"\n",
    "assert say(73) == \"семьдесят три\"\n",
    "assert say(74) == \"семьдесят четыре\"\n",
    "assert say(85) == \"восемьдесят пять\"\n",
    "assert say(93) == \"девяносто три\"\n",
    "print('Success!')"
   ]
  }
 ],
 "metadata": {
  "kernelspec": {
   "display_name": "Python 3",
   "language": "python",
   "name": "python3"
  },
  "language_info": {
   "codemirror_mode": {
    "name": "ipython",
    "version": 3
   },
   "file_extension": ".py",
   "mimetype": "text/x-python",
   "name": "python",
   "nbconvert_exporter": "python",
   "pygments_lexer": "ipython3",
   "version": "3.5.2"
  }
 },
 "nbformat": 4,
 "nbformat_minor": 2
}
